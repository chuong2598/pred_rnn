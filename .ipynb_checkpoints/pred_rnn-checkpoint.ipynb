{
 "cells": [
  {
   "cell_type": "code",
   "execution_count": 2,
   "metadata": {
    "colab": {
     "base_uri": "https://localhost:8080/",
     "height": 54
    },
    "id": "lRRGYIW2d8PL",
    "outputId": "8369d553-b0dd-404c-e46d-3d7db803e68d"
   },
   "outputs": [],
   "source": [
    "\n",
    "import numpy as np\n",
    "import torch\n",
    "from torch.utils.data import TensorDataset, DataLoader\n",
    "import torchvision\n",
    "from matplotlib import pyplot as plt\n",
    "from tqdm.auto import tqdm\n",
    "\n",
    "from google.colab import drive\n",
    "drive.mount('/content/drive')\n",
    "\n",
    "device = \"cuda\" if torch.cuda.is_available() else \"cpu\"\n",
    "torch.cuda.get_device_name(0)"
   ]
  },
  {
   "cell_type": "code",
   "execution_count": 2,
   "metadata": {
    "id": "me6nFCAMzpOh"
   },
   "outputs": [],
   "source": [
    "\n",
    "class SpatialTemoralLSTMCell(torch.nn.Module):\n",
    "    \n",
    "    def __init__(self, image_shape, in_channel, hidden_channels, kernel_size, stride=1):\n",
    "        super(SpatialTemoralLSTMCell, self).__init__()\n",
    "        \"\"\"\n",
    "        hidden_channels: Number of hidden features map \n",
    "        \"\"\"\n",
    "        self.hidden_channels = hidden_channels\n",
    "        self.padding = kernel_size//2\n",
    "        self.stride = stride\n",
    "        \n",
    "        self.g_bias, self.i_bias, self.f_bias, self.o_bias, self.g_prime_bias, self.i_prime_bias, self.f_prime_bias = torch.nn.Parameter(torch.rand(7))\n",
    "        \n",
    "        self.conv_x = torch.nn.Sequential(\n",
    "            torch.nn.Conv2d(in_channels=in_channel, out_channels=self.hidden_channels*7, kernel_size=kernel_size, padding=self.padding, stride=self.stride),\n",
    "            # Add layer norm to stablize and speed up the training processing\n",
    "            torch.nn.LayerNorm([hidden_channels*7, image_shape[0], image_shape[1]])\n",
    "        )\n",
    "        \n",
    "        self.conv_h_prev = torch.nn.Sequential(\n",
    "            torch.nn.Conv2d(in_channels=self.hidden_channels, out_channels=self.hidden_channels*4, kernel_size=kernel_size, padding=self.padding, stride=self.stride),\n",
    "            torch.nn.LayerNorm([hidden_channels*4, image_shape[0], image_shape[1]])\n",
    "        )\n",
    "        \n",
    "        self.conv_m_prev = torch.nn.Sequential(\n",
    "            torch.nn.Conv2d(in_channels=self.hidden_channels, out_channels=self.hidden_channels*3, kernel_size=kernel_size, padding=self.padding, stride=self.stride),\n",
    "            torch.nn.LayerNorm([hidden_channels*3, image_shape[0], image_shape[1]])\n",
    "        )\n",
    "        \n",
    "        self.conv_c = torch.nn.Sequential(\n",
    "            torch.nn.Conv2d(in_channels=self.hidden_channels, out_channels=self.hidden_channels, kernel_size=kernel_size, padding=self.padding, stride=self.stride),\n",
    "            torch.nn.LayerNorm([hidden_channels, image_shape[0], image_shape[1]])\n",
    "        )\n",
    "        \n",
    "        self.conv_m = torch.nn.Sequential(\n",
    "            torch.nn.Conv2d(in_channels=self.hidden_channels, out_channels=self.hidden_channels, kernel_size=kernel_size, padding=self.padding, stride=self.stride),\n",
    "            torch.nn.LayerNorm([hidden_channels, image_shape[0], image_shape[1]])\n",
    "        )\n",
    "        \n",
    "        self.conv_c_m = torch.nn.Sequential(\n",
    "            torch.nn.Conv2d(in_channels=self.hidden_channels*2, out_channels=self.hidden_channels, kernel_size=1, padding=0, stride=1)\n",
    "        )\n",
    "        \n",
    "    def forward(self, x, h_prev, c_prev, m_prev):\n",
    "        conv_x = self.conv_x(x)\n",
    "        g_x, i_x, f_x, o_x, g_x_prime, i_x_prime, f_x_prime = torch.split(tensor=conv_x, split_size_or_sections=self.hidden_channels, dim=1)\n",
    "        conv_h_prev = self.conv_h_prev(h_prev)\n",
    "        g_h, i_h, f_h, o_h = torch.split(tensor=conv_h_prev, split_size_or_sections=self.hidden_channels, dim=1)\n",
    "        g = torch.tanh(g_x + g_h + self.g_bias)\n",
    "        i = torch.sigmoid(i_x + i_h + self.i_bias)\n",
    "        f = torch.sigmoid(f_x + f_h + self.f_bias)\n",
    "        c = f * c_prev + i * g\n",
    "        \n",
    "        conv_m_prev = self.conv_m_prev(m_prev)\n",
    "        g_m_prime, i_m_prime, f_m_prime = torch.split(tensor=conv_m_prev, split_size_or_sections=self.hidden_channels, dim=1)\n",
    "        g_prime = torch.tanh(g_x_prime + g_m_prime + self.g_prime_bias)\n",
    "        i_prime = torch.sigmoid(i_x_prime + i_m_prime + self.i_prime_bias)\n",
    "        f_prime = torch.sigmoid(f_x_prime + f_m_prime + self.f_prime_bias)\n",
    "        m = f_prime * m_prev + i_prime * g_prime\n",
    "        \n",
    "        o_c = self.conv_c(c)\n",
    "        o_m = self.conv_m(m)\n",
    "        o = torch.sigmoid(o_x + o_h + o_c + o_m + self.o_bias)\n",
    "        \n",
    "        c_m_cat = torch.cat((c,m), dim=1)\n",
    "        h = o * torch.tanh(self.conv_c_m(c_m_cat))\n",
    "        return h, c, m\n",
    "        \n"
   ]
  },
  {
   "cell_type": "code",
   "execution_count": 3,
   "metadata": {
    "id": "y2jELQtz0OaT"
   },
   "outputs": [],
   "source": [
    "\n",
    "\n",
    "class PredRNN(torch.nn.Module):\n",
    "    \n",
    "    def __init__(self, nb_layers, image_shape, in_channel, hidden_layer_dim, kernel_size, stride=1, device=\"cuda\"):\n",
    "        super(PredRNN, self).__init__()\n",
    "        \n",
    "        self.nb_layers = nb_layers\n",
    "        self.hidden_layer_dim = hidden_layer_dim\n",
    "        self.cell_list = []\n",
    "        # Fixed hidden layer dim for every layer ==> Fix later by changing param hidden_layer_dim from int to list of int\n",
    "        for i in range(nb_layers):\n",
    "            if i == 0:\n",
    "                new_cell = SpatialTemoralLSTMCell(image_shape=image_shape, in_channel=in_channel, \n",
    "                                                  hidden_channels=hidden_layer_dim, kernel_size=kernel_size, stride=stride)\n",
    "            else:\n",
    "                new_cell = SpatialTemoralLSTMCell(image_shape=image_shape, in_channel=hidden_layer_dim, \n",
    "                                                  hidden_channels=hidden_layer_dim, kernel_size=kernel_size, stride=stride)\n",
    "            self.cell_list.append(new_cell)\n",
    "            \n",
    "        self.cell_list = torch.nn.ModuleList(self.cell_list)\n",
    "        self.output_conv = torch.nn.Conv2d(in_channels=hidden_layer_dim, out_channels=in_channel, kernel_size=1, stride=1)\n",
    "            \n",
    "    \n",
    "    def forward(self, batch_of_sequences):\n",
    "        batch, length, nb_channels, height, width = batch_of_sequences.shape\n",
    "        \n",
    "        h_list = []\n",
    "        c_list = []\n",
    "        for i in range(self.nb_layers):\n",
    "            h_list.append(torch.zeros(batch, self.hidden_layer_dim, height, width, device=device))\n",
    "            c_list.append(torch.zeros(batch, self.hidden_layer_dim, height, width, device=device))\n",
    "\n",
    "        memory = torch.zeros(batch, self.hidden_layer_dim, height, width, device=device)\n",
    "\n",
    "        # Recurrent flow (For each timestep, perform vertical flow first)\n",
    "        for t in range(length):\n",
    "            h_list[0], c_list[0], memory = self.cell_list[0](batch_of_sequences[:, t], h_list[0], c_list[0], memory)\n",
    "            for layer in range(1, self.nb_layers):\n",
    "                h_list[layer], c_list[layer], memory = self.cell_list[layer](h_list[layer-1], h_list[layer], c_list[layer], memory)\n",
    "        \n",
    "        pred = self.output_conv(h_list[-1])\n",
    "\n",
    "        return pred\n",
    "            \n",
    "\n"
   ]
  },
  {
   "cell_type": "code",
   "execution_count": 4,
   "metadata": {
    "id": "BrFT3VzD8s5x"
   },
   "outputs": [],
   "source": [
    "\n",
    "def show_image(sequence, ground_truth, prediction):\n",
    "    grid = torchvision.utils.make_grid(sequence, nrow=5)\n",
    "    grid = grid.permute(1,2,0).detach().cpu().numpy()\n",
    "    plt.figure(figsize=(10, 10))\n",
    "    plt.imshow(grid)\n",
    "    plt.title(\"Sequential images\")\n",
    "\n",
    "    fig = plt.figure(figsize=(7.5,7.5))\n",
    "    ax0 = fig.add_subplot(1,2,1)\n",
    "    ax0.imshow(ground_truth.detach().cpu().numpy(), cmap=\"gray\")\n",
    "    ax0.set_title(\"Ground truth\")\n",
    "    ax1 = fig.add_subplot(1,2,2)\n",
    "    ax1.imshow(prediction.detach().cpu().numpy(), cmap=\"gray\")\n",
    "    ax1.set_title(\"Prediction\")\n",
    "    plt.show()\n",
    "    \n",
    "def save_model(epoch, model, optim, train_loss, val_loss, save_path):\n",
    "    check_point = {\n",
    "        \"epoch\": epoch, \n",
    "        \"model_state_dict\": model.state_dict(),\n",
    "        \"optim_state_dict\": optim.state_dict(),\n",
    "        \"train_loss\": train_loss,\n",
    "        \"val_loss\": val_loss\n",
    "    }\n",
    "    torch.save(check_point, save_path)\n",
    "    print(\"Save model succesfully\")\n",
    "\n"
   ]
  },
  {
   "cell_type": "code",
   "execution_count": 5,
   "metadata": {
    "id": "4ts5BBAE2KTh"
   },
   "outputs": [],
   "source": [
    "# Load dataset\n",
    "training_set =  np.load(\"./drive/MyDrive/pred_cnn/mnist_train_seq.npy\")\n",
    "training_set = training_set.reshape(80000, 20, 1, 64, 64)\n",
    "x_train, y_train = torch.tensor(training_set[:10000, :10, ...]).float(), torch.tensor(training_set[:10000, 10, ...]).float()\n",
    "del training_set\n",
    "\n",
    "testing_set = np.load(\"./drive/MyDrive/pred_cnn/mnist_test_seq.npy\")\n",
    "testing_set = testing_set.reshape(10000, 20, 1, 64, 64)\n",
    "x_val, y_val = torch.tensor(testing_set[:5000, :10, ...]).float(), torch.tensor(testing_set[:5000, 10, ...]).float()\n",
    "x_test, y_test = torch.tensor(testing_set[5000:, :10, ...]).float(), torch.tensor(testing_set[5000:, 10, ...]).float()\n",
    "del testing_set\n",
    "\n",
    "training_set = DataLoader(TensorDataset(x_train, y_train), batch_size=3, shuffle=True)\n",
    "validation_set = DataLoader(TensorDataset(x_val, y_val), batch_size=3, shuffle=False)\n",
    "testing_set = DataLoader(TensorDataset(x_test, y_test), batch_size=3, shuffle=False)\n",
    "\n",
    "# Init model, parameters\n",
    "pred_rnn = PredRNN(nb_layers=4, image_shape=(64,64,1), in_channel=1, hidden_layer_dim=128, kernel_size=5, stride=1)\n",
    "pred_rnn = pred_rnn.to(device=device)\n",
    "optim = torch.optim.Adam(params=pred_rnn.parameters(), lr=0.001)\n",
    "l1_loss = torch.nn.L1Loss()\n",
    "l2_loss = torch.nn.MSELoss()\n",
    "train_loss = []\n",
    "val_loss = []\n",
    "epochs = 20\n"
   ]
  },
  {
   "cell_type": "code",
   "execution_count": null,
   "metadata": {
    "colab": {
     "base_uri": "https://localhost:8080/",
     "height": 1000,
     "referenced_widgets": [
      "a8a79e29e38b43a48e8d9fb79bb17c81",
      "eb4b18ce70f344eb9b6a6963118b618e",
      "6a2b7e3187b54a89a8eb5d82bd8bebc7",
      "53c6b54a409c4a93a69e5ab83736e60f",
      "9573540745344b24b6d412c7d4c7210d",
      "7150f9ec326945dda6bbec61cf7c2d44",
      "a91a8a9556424d399bc31823845c886c",
      "9f785cd916c64e6b941de6c323d16109"
     ]
    },
    "id": "inXizEmO0QqJ",
    "outputId": "deddc97b-358f-487c-aac3-9056f54725c0"
   },
   "outputs": [
    {
     "name": "stdout",
     "output_type": "stream",
     "text": [
      "Epoch 0\n"
     ]
    },
    {
     "data": {
      "application/vnd.jupyter.widget-view+json": {
       "model_id": "a8a79e29e38b43a48e8d9fb79bb17c81",
       "version_major": 2,
       "version_minor": 0
      },
      "text/plain": [
       "HBox(children=(FloatProgress(value=0.0, max=3334.0), HTML(value='')))"
      ]
     },
     "metadata": {
      "tags": []
     },
     "output_type": "display_data"
    },
    {
     "name": "stderr",
     "output_type": "stream",
     "text": [
      "Clipping input data to the valid range for imshow with RGB data ([0..1] for floats or [0..255] for integers).\n"
     ]
    },
    {
     "name": "stdout",
     "output_type": "stream",
     "text": [
      "Current training loss: 2160.5083352050783\n"
     ]
    },
    {
     "data": {
      "image/png": "[encoded data removed]",
      "text/plain": [
       "<Figure size 720x720 with 1 Axes>"
      ]
     },
     "metadata": {
      "needs_background": "light",
      "tags": []
     },
     "output_type": "display_data"
    },
    {
     "data": {
      "image/png": "[encoded data removed]",
      "text/plain": [
       "<Figure size 540x540 with 2 Axes>"
      ]
     },
     "metadata": {
      "needs_background": "light",
      "tags": []
     },
     "output_type": "display_data"
    },
    {
     "name": "stderr",
     "output_type": "stream",
     "text": [
      "Clipping input data to the valid range for imshow with RGB data ([0..1] for floats or [0..255] for integers).\n"
     ]
    },
    {
     "name": "stdout",
     "output_type": "stream",
     "text": [
      "Current training loss: 1901.7177634277343\n"
     ]
    },
    {
     "data": {
      "image/png": "[encoded data removed]",
      "text/plain": [
       "<Figure size 720x720 with 1 Axes>"
      ]
     },
     "metadata": {
      "needs_background": "light",
      "tags": []
     },
     "output_type": "display_data"
    },
    {
     "data": {
      "image/png": "[encoded data removed]",
      "text/plain": [
       "<Figure size 540x540 with 2 Axes>"
      ]
     },
     "metadata": {
      "needs_background": "light",
      "tags": []
     },
     "output_type": "display_data"
    }
   ],
   "source": [
    "\n",
    "for epoch in range(epochs):\n",
    "    print(f\"Epoch {epoch}\")\n",
    "    # Training\n",
    "    epoch_train_loss = []\n",
    "    pred_rnn.train()\n",
    "\n",
    "    sample_index = 0\n",
    "    for sequence, target in tqdm(training_set):\n",
    "        sequence = sequence.to(device=device)\n",
    "        target = target.to(device=device)\n",
    "        pred = pred_rnn(sequence)\n",
    "        loss = l2_loss(pred, target) + l1_loss(pred, target)\n",
    "        optim.zero_grad()\n",
    "        loss.backward()\n",
    "        optim.step()\n",
    "        epoch_train_loss.append(loss.item())\n",
    "        # Show result every 500 iterations of training\n",
    "        sample_index += 1\n",
    "        if (sample_index % 500 == 0):\n",
    "            print(f\"Current training loss: {np.mean(epoch_train_loss)}\")\n",
    "            show_image(sequence[0,:], target[0,0], pred[0,0])\n",
    "\n",
    "    epoch_train_loss = np.mean(epoch_train_loss)\n",
    "    train_loss.append(epoch_train_loss)\n",
    "    save_model(epoch, pred_rnn, optim, train_loss, val_loss, f\"./drive/MyDrive/pred_cnn/combined_loss_epoch{epoch}.pt\")\n",
    "\n",
    "    # Validation\n",
    "    epoch_val_loss = []\n",
    "    pred_rnn.eval()\n",
    "    with torch.no_grad():\n",
    "        for sequence, target in tqdm(validation_set):\n",
    "            sequence = sequence.to(device=device)\n",
    "            target = target.to(device=device) \n",
    "            pred = pred_rnn(sequence)\n",
    "            loss = l2_loss(pred, target) + l1_loss(pred, target)\n",
    "            epoch_val_loss.append(loss.item())\n",
    "    epoch_val_loss = np.mean(epoch_val_loss)\n",
    "    val_loss.append(epoch_val_loss)\n",
    "    \n",
    "    print(f\"Finish epoch {epoch}. Train_loss = {epoch_train_loss}, Val_loss = {epoch_val_loss}\")\n",
    "    show_image(sequence[0,:], target[0,0], pred[0,0])\n"
   ]
  },
  {
   "cell_type": "code",
   "execution_count": null,
   "metadata": {
    "id": "ECffjO1IuSRM"
   },
   "outputs": [],
   "source": []
  }
 ],
 "metadata": {
  "accelerator": "GPU",
  "colab": {
   "collapsed_sections": [],
   "machine_shape": "hm",
   "name": "pred_rnn_combined_loss.ipynb",
   "provenance": []
  },
  "kernelspec": {
   "display_name": "Python 3",
   "language": "python",
   "name": "python3"
  },
  "language_info": {
   "codemirror_mode": {
    "name": "ipython",
    "version": 3
   },
   "file_extension": ".py",
   "mimetype": "text/x-python",
   "name": "python",
   "nbconvert_exporter": "python",
   "pygments_lexer": "ipython3",
   "version": "3.7.7"
  },
  "widgets": {
   "application/vnd.jupyter.widget-state+json": {
    "53c6b54a409c4a93a69e5ab83736e60f": {
     "model_module": "@jupyter-widgets/controls",
     "model_name": "HTMLModel",
     "state": {
      "_dom_classes": [],
      "_model_module": "@jupyter-widgets/controls",
      "_model_module_version": "1.5.0",
      "_model_name": "HTMLModel",
      "_view_count": null,
      "_view_module": "@jupyter-widgets/controls",
      "_view_module_version": "1.5.0",
      "_view_name": "HTMLView",
      "description": "",
      "description_tooltip": null,
      "layout": "IPY_MODEL_9f785cd916c64e6b941de6c323d16109",
      "placeholder": "​",
      "style": "IPY_MODEL_a91a8a9556424d399bc31823845c886c",
      "value": " 1334/3334 [1:09:27&lt;1:44:02,  3.12s/it]"
     }
    },
    "6a2b7e3187b54a89a8eb5d82bd8bebc7": {
     "model_module": "@jupyter-widgets/controls",
     "model_name": "FloatProgressModel",
     "state": {
      "_dom_classes": [],
      "_model_module": "@jupyter-widgets/controls",
      "_model_module_version": "1.5.0",
      "_model_name": "FloatProgressModel",
      "_view_count": null,
      "_view_module": "@jupyter-widgets/controls",
      "_view_module_version": "1.5.0",
      "_view_name": "ProgressView",
      "bar_style": "",
      "description": " 40%",
      "description_tooltip": null,
      "layout": "IPY_MODEL_7150f9ec326945dda6bbec61cf7c2d44",
      "max": 3334,
      "min": 0,
      "orientation": "horizontal",
      "style": "IPY_MODEL_9573540745344b24b6d412c7d4c7210d",
      "value": 1334
     }
    },
    "7150f9ec326945dda6bbec61cf7c2d44": {
     "model_module": "@jupyter-widgets/base",
     "model_name": "LayoutModel",
     "state": {
      "_model_module": "@jupyter-widgets/base",
      "_model_module_version": "1.2.0",
      "_model_name": "LayoutModel",
      "_view_count": null,
      "_view_module": "@jupyter-widgets/base",
      "_view_module_version": "1.2.0",
      "_view_name": "LayoutView",
      "align_content": null,
      "align_items": null,
      "align_self": null,
      "border": null,
      "bottom": null,
      "display": null,
      "flex": null,
      "flex_flow": null,
      "grid_area": null,
      "grid_auto_columns": null,
      "grid_auto_flow": null,
      "grid_auto_rows": null,
      "grid_column": null,
      "grid_gap": null,
      "grid_row": null,
      "grid_template_areas": null,
      "grid_template_columns": null,
      "grid_template_rows": null,
      "height": null,
      "justify_content": null,
      "justify_items": null,
      "left": null,
      "margin": null,
      "max_height": null,
      "max_width": null,
      "min_height": null,
      "min_width": null,
      "object_fit": null,
      "object_position": null,
      "order": null,
      "overflow": null,
      "overflow_x": null,
      "overflow_y": null,
      "padding": null,
      "right": null,
      "top": null,
      "visibility": null,
      "width": null
     }
    },
    "9573540745344b24b6d412c7d4c7210d": {
     "model_module": "@jupyter-widgets/controls",
     "model_name": "ProgressStyleModel",
     "state": {
      "_model_module": "@jupyter-widgets/controls",
      "_model_module_version": "1.5.0",
      "_model_name": "ProgressStyleModel",
      "_view_count": null,
      "_view_module": "@jupyter-widgets/base",
      "_view_module_version": "1.2.0",
      "_view_name": "StyleView",
      "bar_color": null,
      "description_width": "initial"
     }
    },
    "9f785cd916c64e6b941de6c323d16109": {
     "model_module": "@jupyter-widgets/base",
     "model_name": "LayoutModel",
     "state": {
      "_model_module": "@jupyter-widgets/base",
      "_model_module_version": "1.2.0",
      "_model_name": "LayoutModel",
      "_view_count": null,
      "_view_module": "@jupyter-widgets/base",
      "_view_module_version": "1.2.0",
      "_view_name": "LayoutView",
      "align_content": null,
      "align_items": null,
      "align_self": null,
      "border": null,
      "bottom": null,
      "display": null,
      "flex": null,
      "flex_flow": null,
      "grid_area": null,
      "grid_auto_columns": null,
      "grid_auto_flow": null,
      "grid_auto_rows": null,
      "grid_column": null,
      "grid_gap": null,
      "grid_row": null,
      "grid_template_areas": null,
      "grid_template_columns": null,
      "grid_template_rows": null,
      "height": null,
      "justify_content": null,
      "justify_items": null,
      "left": null,
      "margin": null,
      "max_height": null,
      "max_width": null,
      "min_height": null,
      "min_width": null,
      "object_fit": null,
      "object_position": null,
      "order": null,
      "overflow": null,
      "overflow_x": null,
      "overflow_y": null,
      "padding": null,
      "right": null,
      "top": null,
      "visibility": null,
      "width": null
     }
    },
    "a8a79e29e38b43a48e8d9fb79bb17c81": {
     "model_module": "@jupyter-widgets/controls",
     "model_name": "HBoxModel",
     "state": {
      "_dom_classes": [],
      "_model_module": "@jupyter-widgets/controls",
      "_model_module_version": "1.5.0",
      "_model_name": "HBoxModel",
      "_view_count": null,
      "_view_module": "@jupyter-widgets/controls",
      "_view_module_version": "1.5.0",
      "_view_name": "HBoxView",
      "box_style": "",
      "children": [
       "IPY_MODEL_6a2b7e3187b54a89a8eb5d82bd8bebc7",
       "IPY_MODEL_53c6b54a409c4a93a69e5ab83736e60f"
      ],
      "layout": "IPY_MODEL_eb4b18ce70f344eb9b6a6963118b618e"
     }
    },
    "a91a8a9556424d399bc31823845c886c": {
     "model_module": "@jupyter-widgets/controls",
     "model_name": "DescriptionStyleModel",
     "state": {
      "_model_module": "@jupyter-widgets/controls",
      "_model_module_version": "1.5.0",
      "_model_name": "DescriptionStyleModel",
      "_view_count": null,
      "_view_module": "@jupyter-widgets/base",
      "_view_module_version": "1.2.0",
      "_view_name": "StyleView",
      "description_width": ""
     }
    },
    "eb4b18ce70f344eb9b6a6963118b618e": {
     "model_module": "@jupyter-widgets/base",
     "model_name": "LayoutModel",
     "state": {
      "_model_module": "@jupyter-widgets/base",
      "_model_module_version": "1.2.0",
      "_model_name": "LayoutModel",
      "_view_count": null,
      "_view_module": "@jupyter-widgets/base",
      "_view_module_version": "1.2.0",
      "_view_name": "LayoutView",
      "align_content": null,
      "align_items": null,
      "align_self": null,
      "border": null,
      "bottom": null,
      "display": null,
      "flex": null,
      "flex_flow": null,
      "grid_area": null,
      "grid_auto_columns": null,
      "grid_auto_flow": null,
      "grid_auto_rows": null,
      "grid_column": null,
      "grid_gap": null,
      "grid_row": null,
      "grid_template_areas": null,
      "grid_template_columns": null,
      "grid_template_rows": null,
      "height": null,
      "justify_content": null,
      "justify_items": null,
      "left": null,
      "margin": null,
      "max_height": null,
      "max_width": null,
      "min_height": null,
      "min_width": null,
      "object_fit": null,
      "object_position": null,
      "order": null,
      "overflow": null,
      "overflow_x": null,
      "overflow_y": null,
      "padding": null,
      "right": null,
      "top": null,
      "visibility": null,
      "width": null
     }
    }
   }
  }
 },
 "nbformat": 4,
 "nbformat_minor": 4
}
